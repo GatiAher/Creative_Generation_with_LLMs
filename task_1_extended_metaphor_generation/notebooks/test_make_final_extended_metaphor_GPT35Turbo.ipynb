{
 "cells": [
  {
   "cell_type": "code",
   "execution_count": 1,
   "metadata": {},
   "outputs": [],
   "source": [
    "%load_ext autoreload\n",
    "%autoreload 2"
   ]
  },
  {
   "cell_type": "markdown",
   "metadata": {},
   "source": [
    "## Generate Final Extended Metaphor - GPT 3.5 Turbo"
   ]
  },
  {
   "cell_type": "code",
   "execution_count": 2,
   "metadata": {},
   "outputs": [],
   "source": [
    "import tqdm\n",
    "import pandas as pd\n",
    "pd.set_option('display.max_colwidth', 0)\n",
    "import json\n",
    "import re\n",
    "\n",
    "import pathlib\n",
    "import sys\n",
    "\n",
    "from openai import OpenAI\n",
    "import os\n",
    "\n",
    "# Add src module to path before import.\n",
    "sys.path.insert(0, str(pathlib.Path('../../src')))\n",
    "\n",
    "from file_IO_handler import get_plaintext_file_contents, save_json, load_json\n",
    "from fill_string_template import get_filled_strings_from_dataframe, FilledString"
   ]
  },
  {
   "cell_type": "markdown",
   "metadata": {},
   "source": [
    "## Get Access to OpenAI API"
   ]
  },
  {
   "cell_type": "code",
   "execution_count": 3,
   "metadata": {},
   "outputs": [],
   "source": [
    "OPENAI_API_KEY = get_plaintext_file_contents(pathlib.Path(\"../../OPENAI_API_KEY.env\"))\n",
    "# print(OPENAI_API_KEY)\n",
    "\n",
    "MODEL_NAME = \"gpt-3.5-turbo\"\n",
    "\n",
    "\n",
    "client = OpenAI(api_key=OPENAI_API_KEY)\n",
    "\n",
    "\n",
    "def Completion(prompt, is_json=False, is_short_ans=False):\n",
    "    if is_json:\n",
    "        return client.chat.completions.create(\n",
    "            model=\"gpt-3.5-turbo\",\n",
    "            response_format={ \"type\": \"json_object\" },\n",
    "            messages=[{\"role\": \"system\", \"content\": \"You are a helpful assistant designed to output JSON.\"}, {\"role\": \"user\", \"content\": prompt}]\n",
    "        )\n",
    "    elif is_short_ans:\n",
    "        return client.chat.completions.create(\n",
    "            model=\"gpt-3.5-turbo\",\n",
    "            messages=[{\"role\": \"system\", \"content\": \"Output one word or phrase\"}, {\"role\": \"user\", \"content\": prompt}]\n",
    "        )\n",
    "    return client.chat.completions.create(\n",
    "        model=\"gpt-3.5-turbo\",\n",
    "        messages=[{\"role\": \"user\", \"content\": prompt}]\n",
    "    )"
   ]
  },
  {
   "cell_type": "markdown",
   "metadata": {},
   "source": [
    "## Prepare Inputs"
   ]
  },
  {
   "cell_type": "code",
   "execution_count": 4,
   "metadata": {},
   "outputs": [
    {
     "data": {
      "text/plain": [
       "Index(['level_of_difficulty', 'tensor_name', 'source_domain', 'subtensor_name',\n",
       "       'subtensor_definition', 'subtensor_purpose', 'subtensor_mechanism',\n",
       "       'text', 'text_annotated', 'text_redacted', 'schema', 'target_domain',\n",
       "       'subvehicle_name', 'subtensor_name_as_json_key',\n",
       "       'subvehicle_name_as_json_key', 'extended_metaphor', 'final_output'],\n",
       "      dtype='object')"
      ]
     },
     "execution_count": 4,
     "metadata": {},
     "output_type": "execute_result"
    }
   ],
   "source": [
    "df = pd.read_csv(pathlib.Path(\"../generations/script_run_GPT35Turbo/prompt_7_output.csv\"), index_col=0)\n",
    "df.columns"
   ]
  },
  {
   "cell_type": "code",
   "execution_count": 5,
   "metadata": {},
   "outputs": [
    {
     "data": {
      "text/html": [
       "<div>\n",
       "<style scoped>\n",
       "    .dataframe tbody tr th:only-of-type {\n",
       "        vertical-align: middle;\n",
       "    }\n",
       "\n",
       "    .dataframe tbody tr th {\n",
       "        vertical-align: top;\n",
       "    }\n",
       "\n",
       "    .dataframe thead th {\n",
       "        text-align: right;\n",
       "    }\n",
       "</style>\n",
       "<table border=\"1\" class=\"dataframe\">\n",
       "  <thead>\n",
       "    <tr style=\"text-align: right;\">\n",
       "      <th></th>\n",
       "      <th>tensor_name</th>\n",
       "      <th>source_domain</th>\n",
       "      <th>subtensor_name</th>\n",
       "      <th>target_domain</th>\n",
       "      <th>subvehicle_name</th>\n",
       "    </tr>\n",
       "  </thead>\n",
       "  <tbody>\n",
       "    <tr>\n",
       "      <th>0</th>\n",
       "      <td>solar system</td>\n",
       "      <td>Astronomy</td>\n",
       "      <td>Planets</td>\n",
       "      <td>Kpop</td>\n",
       "      <td>Choreography</td>\n",
       "    </tr>\n",
       "    <tr>\n",
       "      <th>1</th>\n",
       "      <td>solar system</td>\n",
       "      <td>Astronomy</td>\n",
       "      <td>Planets</td>\n",
       "      <td>baseball</td>\n",
       "      <td>Fielding positions and coordination.</td>\n",
       "    </tr>\n",
       "    <tr>\n",
       "      <th>2</th>\n",
       "      <td>solar system</td>\n",
       "      <td>Astronomy</td>\n",
       "      <td>Planets</td>\n",
       "      <td>Iron Man</td>\n",
       "      <td>Repulsor Technology</td>\n",
       "    </tr>\n",
       "    <tr>\n",
       "      <th>3</th>\n",
       "      <td>solar system</td>\n",
       "      <td>Astronomy</td>\n",
       "      <td>Planets</td>\n",
       "      <td>money</td>\n",
       "      <td>Cryptocurrency</td>\n",
       "    </tr>\n",
       "    <tr>\n",
       "      <th>4</th>\n",
       "      <td>solar system</td>\n",
       "      <td>Astronomy</td>\n",
       "      <td>Moons</td>\n",
       "      <td>Kpop</td>\n",
       "      <td>Concept of fan interactions within the Kpop industry</td>\n",
       "    </tr>\n",
       "    <tr>\n",
       "      <th>...</th>\n",
       "      <td>...</td>\n",
       "      <td>...</td>\n",
       "      <td>...</td>\n",
       "      <td>...</td>\n",
       "      <td>...</td>\n",
       "    </tr>\n",
       "    <tr>\n",
       "      <th>359</th>\n",
       "      <td>superstring theory</td>\n",
       "      <td>Physics</td>\n",
       "      <td>String compactification</td>\n",
       "      <td>money</td>\n",
       "      <td>Blockchain</td>\n",
       "    </tr>\n",
       "    <tr>\n",
       "      <th>360</th>\n",
       "      <td>superstring theory</td>\n",
       "      <td>Physics</td>\n",
       "      <td>D-branes</td>\n",
       "      <td>Kpop</td>\n",
       "      <td>Concept Music Videos</td>\n",
       "    </tr>\n",
       "    <tr>\n",
       "      <th>361</th>\n",
       "      <td>superstring theory</td>\n",
       "      <td>Physics</td>\n",
       "      <td>D-branes</td>\n",
       "      <td>baseball</td>\n",
       "      <td>Pitcher's mound</td>\n",
       "    </tr>\n",
       "    <tr>\n",
       "      <th>362</th>\n",
       "      <td>superstring theory</td>\n",
       "      <td>Physics</td>\n",
       "      <td>D-branes</td>\n",
       "      <td>Iron Man</td>\n",
       "      <td>Nanotechnology</td>\n",
       "    </tr>\n",
       "    <tr>\n",
       "      <th>363</th>\n",
       "      <td>superstring theory</td>\n",
       "      <td>Physics</td>\n",
       "      <td>D-branes</td>\n",
       "      <td>money</td>\n",
       "      <td>Cryptocurrency</td>\n",
       "    </tr>\n",
       "  </tbody>\n",
       "</table>\n",
       "<p>364 rows × 5 columns</p>\n",
       "</div>"
      ],
      "text/plain": [
       "            tensor_name source_domain           subtensor_name target_domain  \\\n",
       "0    solar system        Astronomy     Planets                  Kpop           \n",
       "1    solar system        Astronomy     Planets                  baseball       \n",
       "2    solar system        Astronomy     Planets                  Iron Man       \n",
       "3    solar system        Astronomy     Planets                  money          \n",
       "4    solar system        Astronomy     Moons                    Kpop           \n",
       "..            ...              ...       ...                     ...           \n",
       "359  superstring theory  Physics       String compactification  money          \n",
       "360  superstring theory  Physics       D-branes                 Kpop           \n",
       "361  superstring theory  Physics       D-branes                 baseball       \n",
       "362  superstring theory  Physics       D-branes                 Iron Man       \n",
       "363  superstring theory  Physics       D-branes                 money          \n",
       "\n",
       "                                          subvehicle_name  \n",
       "0    Choreography                                          \n",
       "1    Fielding positions and coordination.                  \n",
       "2    Repulsor Technology                                   \n",
       "3    Cryptocurrency                                        \n",
       "4    Concept of fan interactions within the Kpop industry  \n",
       "..                                                    ...  \n",
       "359  Blockchain                                            \n",
       "360  Concept Music Videos                                  \n",
       "361  Pitcher's mound                                       \n",
       "362  Nanotechnology                                        \n",
       "363  Cryptocurrency                                        \n",
       "\n",
       "[364 rows x 5 columns]"
      ]
     },
     "execution_count": 5,
     "metadata": {},
     "output_type": "execute_result"
    }
   ],
   "source": [
    "df[[\"tensor_name\", \"source_domain\", \"subtensor_name\", \"target_domain\", \"subvehicle_name\"]]"
   ]
  },
  {
   "cell_type": "code",
   "execution_count": 6,
   "metadata": {},
   "outputs": [],
   "source": [
    "def is_like(row):\n",
    "    if row['subtensor_name'].endswith(\"s\"):\n",
    "        return row['subtensor_name'] + \" are like \" + row['subvehicle_name'] + \".\"\n",
    "    return row['subtensor_name'] + \" is like \" + row['subvehicle_name'] + \".\""
   ]
  },
  {
   "cell_type": "code",
   "execution_count": 7,
   "metadata": {},
   "outputs": [
    {
     "data": {
      "text/plain": [
       "84"
      ]
     },
     "execution_count": 7,
     "metadata": {},
     "output_type": "execute_result"
    }
   ],
   "source": [
    "df['is_like'] = df.apply(is_like, axis=1)\n",
    "df['list_of_is_like'] = df[['tensor_name','target_domain', 'is_like']].groupby(['tensor_name','target_domain'])['is_like'].transform(lambda x: ' '.join(x))\n",
    "df['list_of_subtensors'] = df[['tensor_name','target_domain', 'subtensor_name']].groupby(['tensor_name','target_domain'])['subtensor_name'].transform(lambda x: ', '.join(x))\n",
    "df['list_of_subvehicles'] = df[['tensor_name','target_domain', 'subvehicle_name']].groupby(['tensor_name','target_domain'])['subvehicle_name'].transform(lambda x: ', '.join(x))\n",
    "df['list_of_extended_metaphor'] = df[['tensor_name','target_domain', 'extended_metaphor']].groupby(['tensor_name','target_domain'])['extended_metaphor'].transform(lambda x: ','.join(x))\n",
    "df_slice = df[[\n",
    "    'level_of_difficulty',\n",
    "    'tensor_name',\n",
    "    'source_domain',\n",
    "    'target_domain', \n",
    "    'list_of_is_like', \n",
    "    'list_of_subtensors', \n",
    "    'list_of_subvehicles', \n",
    "    'list_of_extended_metaphor',\n",
    "]].drop_duplicates()\n",
    "len(df_slice)"
   ]
  },
  {
   "cell_type": "code",
   "execution_count": 8,
   "metadata": {},
   "outputs": [
    {
     "data": {
      "text/html": [
       "<div>\n",
       "<style scoped>\n",
       "    .dataframe tbody tr th:only-of-type {\n",
       "        vertical-align: middle;\n",
       "    }\n",
       "\n",
       "    .dataframe tbody tr th {\n",
       "        vertical-align: top;\n",
       "    }\n",
       "\n",
       "    .dataframe thead th {\n",
       "        text-align: right;\n",
       "    }\n",
       "</style>\n",
       "<table border=\"1\" class=\"dataframe\">\n",
       "  <thead>\n",
       "    <tr style=\"text-align: right;\">\n",
       "      <th></th>\n",
       "      <th>level_of_difficulty</th>\n",
       "      <th>tensor_name</th>\n",
       "      <th>source_domain</th>\n",
       "      <th>target_domain</th>\n",
       "      <th>list_of_is_like</th>\n",
       "      <th>list_of_subtensors</th>\n",
       "      <th>list_of_subvehicles</th>\n",
       "      <th>list_of_extended_metaphor</th>\n",
       "    </tr>\n",
       "  </thead>\n",
       "  <tbody>\n",
       "    <tr>\n",
       "      <th>0</th>\n",
       "      <td>Elementary</td>\n",
       "      <td>solar system</td>\n",
       "      <td>Astronomy</td>\n",
       "      <td>Kpop</td>\n",
       "      <td>Planets are like Choreography. Moons are like Concept of fan interactions within the Kpop industry. Asteroids are like Choreography. Comets are like Choreography aspects. Dwarf Planets are like Choreography.</td>\n",
       "      <td>Planets, Moons, Asteroids, Comets, Dwarf Planets</td>\n",
       "      <td>Choreography, Concept of fan interactions within the Kpop industry, Choreography, Choreography aspects, Choreography</td>\n",
       "      <td>[\\n  {\\n    \"metaphor\": \"both Planets in the solar system and Choreography in Kpop have Gravitational Equilibrium\",\\n    \"planets\": \"Gravitational Equilibrium in the solar system contributes to overall stability by maintaining precise geometric positions and movements of celestial bodies.\",\\n    \"choreography\": \"Similarly, Choreography in Kpop maintains equilibrium by ensuring precise movements and positions of dancers on stage, contributing to the overall stability and aesthetics of the performance.\"\\n  },\\n  {\\n    \"metaphor\": \"both Planets in the solar system and Choreography in Kpop have Elliptical Paths\",\\n    \"planets\": \"Elliptical Paths dictate the movement of planetary bodies along specific paths around a central body, enabling the prediction of their motion.\",\\n    \"choreography\": \"Likewise, Choreography in Kpop dictates the specific paths and movements of dancers on stage, guiding their motions and creating a visually cohesive performance for the audience.\"\\n  },\\n  {\\n    \"metaphor\": \"both Planets in the solar system and Choreography in Kpop have Mathematical Principles (e.g., Kepler's laws of planetary motion and Newton's law of universal gravitation)\",\\n    \"planets\": \"Mathematical laws such as Kepler's laws and Newton's law are used to determine and predict planetary motion and gravitational interactions in the solar system.\",\\n    \"choreography\": \"Similarly, Choreography in Kpop relies on mathematical principles and choreographic techniques to plan and execute dance sequences, ensuring a harmonious and visually appealing performance for the audience.\"\\n  },\\n  {\\n    \"metaphor\": \"both Planets in the solar system and Choreography in Kpop have Orbital Configurations\",\\n    \"planets\": \"Orbital configurations in the solar system result in stable interactions between celestial bodies, maintaining the gravitational equilibrium and stability of the system.\",\\n    \"choreography\": \"In Choreography in Kpop, stable configurations of dancers on stage enhance the visual impact and dynamic flow of the performance, contributing to the overall aesthetic appeal and balance of the choreographed piece.\"\\n  }\\n],[\\n  {\\n    \"metaphor\": \"both Moons in the solar system and the Concept of fan interactions within the Kpop industry in Kpop provide stabilization\",\\n    \"moons\": \"Moons stabilize the planets they orbit by providing gravitational balance, ensuring that the planetary system remains in harmony.\",\\n    \"concept_of_fan_interactions_within_the_kpop_industry\": \"Similarly, the concept of fan interactions in Kpop provides stability to the industry by creating a supportive and engaged fan base that helps keep the industry dynamic and thriving.\"\\n  },\\n  {\\n    \"metaphor\": \"both Moons in the solar system and the Concept of fan interactions within the Kpop industry in Kpop exhibit orbital mechanics\",\\n    \"moons\": \"Moons continuously revolve around their host planet in specific orbits, following a pattern that is essential for the planetary system's functionality and balance.\",\\n    \"concept_of_fan_interactions_within_the_kpop_industry\": \"Likewise, fan interactions in Kpop continuously revolve around the artists and groups they support, forming a dedicated and active community that contributes to the continuous evolution and success of the industry.\"\\n  },\\n  {\\n    \"metaphor\": \"both Moons in the solar system and the Concept of fan interactions within the Kpop industry in Kpop maintain equilibrium\",\\n    \"moons\": \"Moons maintain equilibrium through gravitational forces, interacting with the planets and other celestial bodies in a system of interlocking cycles akin to gears in machinery.\",\\n    \"concept_of_fan_interactions_within_the_kpop_industry\": \"In a similar vein, fan interactions within the Kpop industry help maintain equilibrium by fostering connections between fans, artists, and the industry itself, creating a balanced and sustainable ecosystem.\"\\n  }\\n],[\\n  {\\n    \"metaphor\": \"both Asteroids in solar system and Choreography in Kpop have Gravitational Forces\",\\n    \"asteroids\": \"In the solar system, gravitational forces are essential for maintaining the balance of planetary systems. Asteroids interact with these forces to either maintain their orbits or get pulled into the gravitational pull of larger celestial bodies.\",\\n    \"choreography\": \"Similarly, in Kpop choreography, dancers utilize the force of movement and coordination to create a harmonious and visually appealing performance. Choreographers ensure stability and balance by strategically positioning dancers and movements, just like how gravitational forces interact with celestial bodies to ensure stability.\"\\n  },\\n  {\\n    \"metaphor\": \"both Asteroids in solar system and Choreography in Kpop have Orbital Mechanics\",\\n    \"asteroids\": \"Orbital mechanics play a crucial role in organizing the positions and movements of asteroids in the solar system. Different orbits are utilized to influence the trajectories and interactions of these celestial bodies.\",\\n    \"choreography\": \"In Kpop choreography, dancers move in various orbits within the performance space to create visually engaging patterns and formations. Different movements and positions are orchestrated to influence the flow and dynamics of the choreography, similar to how orbital mechanics influence the positions and interactions of asteroids in the solar system.\"\\n  }\\n],[\\n  {\\n    \"metaphor\": \"Both Comets in the solar system and Choreography aspects in Kpop have Orbital Mechanics in common.\",\\n    \"comets\": \"Comets utilize gravitational forces to determine their movement and path in space, following elliptical trajectories around the sun.\",\\n    \"choreography_aspects\": \"Similarly, Choreography aspects in Kpop utilize forces of movement and direction to create visually appealing dance routines that flow seamlessly in a performance.\"\\n  },\\n  {\\n    \"metaphor\": \"Both Comets in the solar system and Choreography aspects in Kpop have Material Science in common.\",\\n    \"comets\": \"Scientists study and manipulate icy materials and dust particles found in comets to understand their composition and behavior in different environments.\",\\n    \"choreography_aspects\": \"Likewise, Choreographers in Kpop analyze and utilize various materials such as props, costumes, and lighting effects to enhance the visual appeal and storytelling in their dance routines.\"\\n  }\\n],[\\n  {\\n    \"metaphor\": \"both Dwarf Planets in the solar system and Choreography in Kpop have characteristics of Gravitational Stabilization\",\\n    \"dwarf_planets\": {\\n      \"purpose\": \"Utilizing objects with sufficient mass and gravitational pull to stabilize orbital pathways of other objects\",\\n      \"mechanism\": \"Preventing chaotic movements and collisions\"\\n    },\\n    \"choreography\": {\\n      \"purpose\": \"Utilizing dancers with specific movements and timing to stabilize the overall performance\",\\n      \"mechanism\": \"Preventing chaotic choreography and ensuring synchronized movements\"\\n    }\\n  },\\n  {\\n    \"metaphor\": \"both Dwarf Planets in the solar system and Choreography in Kpop have characteristics of Geometric Structuring\",\\n    \"dwarf_planets\": {\\n      \"purpose\": \"Designing objects with specific spatial locations and geometric structures to maintain celestial balance and stability\",\\n      \"mechanism\": \"Preventing orbital disturbances and ensuring gravitational harmony\"\\n    },\\n    \"choreography\": {\\n      \"purpose\": \"Designing dance formations with specific spatial arrangements and geometric patterns to enhance the visual appeal\",\\n      \"mechanism\": \"Creating a visually pleasing performance and maintaining group coordination\"\\n    }\\n  }\\n]</td>\n",
       "    </tr>\n",
       "  </tbody>\n",
       "</table>\n",
       "</div>"
      ],
      "text/plain": [
       "  level_of_difficulty   tensor_name source_domain target_domain  \\\n",
       "0  Elementary          solar system  Astronomy     Kpop           \n",
       "\n",
       "                                                                                                                                                                                                   list_of_is_like  \\\n",
       "0  Planets are like Choreography. Moons are like Concept of fan interactions within the Kpop industry. Asteroids are like Choreography. Comets are like Choreography aspects. Dwarf Planets are like Choreography.   \n",
       "\n",
       "                                 list_of_subtensors  \\\n",
       "0  Planets, Moons, Asteroids, Comets, Dwarf Planets   \n",
       "\n",
       "                                                                                                    list_of_subvehicles  \\\n",
       "0  Choreography, Concept of fan interactions within the Kpop industry, Choreography, Choreography aspects, Choreography   \n",
       "\n",
       "                                                                                                                                                                                                                                                                                                                                                                                                                                                                                                                                                                                                                                                                                                                                                                                                                                                                                                                                                                                                                                                                                                                                                                                                                                                                                                                                                                                                                                                                                                                                                                                                                                                                                                                                                                                                                                                                                                                                                                                                                                                                                                                                                                                                                                                                                                                                                                                                                                                                                                                                                                                                                                                                                                                                                                                                                                                                                                                                                                                                                                                                                                                                                                                                                                                                                                                                                                                                                                                                                                                                                                                                                                                                                                                                                                                                                                                                                                                                                                                                                                                                                                                                                                                                                                                                                                                                                                                                                                                                                                                                                                                                                                                                                                                                                                                                                                                                                                                                                                                                                                                                                                                                                                                                                                                                                                                                                                                                                                                                                                                                                                                                                                                                                                                                                                                                                                                                                                                                                                                                                                                                                                                                                                                                                                                                                                                                                                                                                                                                                                                                                                                                                                                                                                                                                                                                                                                                                                                                                                                                                                                                                                                                                                                                                                                                                                                                                                                                                                                                                                                                                                                                                                                                                                                                                                                                                                                                                                                                                   list_of_extended_metaphor  \n",
       "0  [\\n  {\\n    \"metaphor\": \"both Planets in the solar system and Choreography in Kpop have Gravitational Equilibrium\",\\n    \"planets\": \"Gravitational Equilibrium in the solar system contributes to overall stability by maintaining precise geometric positions and movements of celestial bodies.\",\\n    \"choreography\": \"Similarly, Choreography in Kpop maintains equilibrium by ensuring precise movements and positions of dancers on stage, contributing to the overall stability and aesthetics of the performance.\"\\n  },\\n  {\\n    \"metaphor\": \"both Planets in the solar system and Choreography in Kpop have Elliptical Paths\",\\n    \"planets\": \"Elliptical Paths dictate the movement of planetary bodies along specific paths around a central body, enabling the prediction of their motion.\",\\n    \"choreography\": \"Likewise, Choreography in Kpop dictates the specific paths and movements of dancers on stage, guiding their motions and creating a visually cohesive performance for the audience.\"\\n  },\\n  {\\n    \"metaphor\": \"both Planets in the solar system and Choreography in Kpop have Mathematical Principles (e.g., Kepler's laws of planetary motion and Newton's law of universal gravitation)\",\\n    \"planets\": \"Mathematical laws such as Kepler's laws and Newton's law are used to determine and predict planetary motion and gravitational interactions in the solar system.\",\\n    \"choreography\": \"Similarly, Choreography in Kpop relies on mathematical principles and choreographic techniques to plan and execute dance sequences, ensuring a harmonious and visually appealing performance for the audience.\"\\n  },\\n  {\\n    \"metaphor\": \"both Planets in the solar system and Choreography in Kpop have Orbital Configurations\",\\n    \"planets\": \"Orbital configurations in the solar system result in stable interactions between celestial bodies, maintaining the gravitational equilibrium and stability of the system.\",\\n    \"choreography\": \"In Choreography in Kpop, stable configurations of dancers on stage enhance the visual impact and dynamic flow of the performance, contributing to the overall aesthetic appeal and balance of the choreographed piece.\"\\n  }\\n],[\\n  {\\n    \"metaphor\": \"both Moons in the solar system and the Concept of fan interactions within the Kpop industry in Kpop provide stabilization\",\\n    \"moons\": \"Moons stabilize the planets they orbit by providing gravitational balance, ensuring that the planetary system remains in harmony.\",\\n    \"concept_of_fan_interactions_within_the_kpop_industry\": \"Similarly, the concept of fan interactions in Kpop provides stability to the industry by creating a supportive and engaged fan base that helps keep the industry dynamic and thriving.\"\\n  },\\n  {\\n    \"metaphor\": \"both Moons in the solar system and the Concept of fan interactions within the Kpop industry in Kpop exhibit orbital mechanics\",\\n    \"moons\": \"Moons continuously revolve around their host planet in specific orbits, following a pattern that is essential for the planetary system's functionality and balance.\",\\n    \"concept_of_fan_interactions_within_the_kpop_industry\": \"Likewise, fan interactions in Kpop continuously revolve around the artists and groups they support, forming a dedicated and active community that contributes to the continuous evolution and success of the industry.\"\\n  },\\n  {\\n    \"metaphor\": \"both Moons in the solar system and the Concept of fan interactions within the Kpop industry in Kpop maintain equilibrium\",\\n    \"moons\": \"Moons maintain equilibrium through gravitational forces, interacting with the planets and other celestial bodies in a system of interlocking cycles akin to gears in machinery.\",\\n    \"concept_of_fan_interactions_within_the_kpop_industry\": \"In a similar vein, fan interactions within the Kpop industry help maintain equilibrium by fostering connections between fans, artists, and the industry itself, creating a balanced and sustainable ecosystem.\"\\n  }\\n],[\\n  {\\n    \"metaphor\": \"both Asteroids in solar system and Choreography in Kpop have Gravitational Forces\",\\n    \"asteroids\": \"In the solar system, gravitational forces are essential for maintaining the balance of planetary systems. Asteroids interact with these forces to either maintain their orbits or get pulled into the gravitational pull of larger celestial bodies.\",\\n    \"choreography\": \"Similarly, in Kpop choreography, dancers utilize the force of movement and coordination to create a harmonious and visually appealing performance. Choreographers ensure stability and balance by strategically positioning dancers and movements, just like how gravitational forces interact with celestial bodies to ensure stability.\"\\n  },\\n  {\\n    \"metaphor\": \"both Asteroids in solar system and Choreography in Kpop have Orbital Mechanics\",\\n    \"asteroids\": \"Orbital mechanics play a crucial role in organizing the positions and movements of asteroids in the solar system. Different orbits are utilized to influence the trajectories and interactions of these celestial bodies.\",\\n    \"choreography\": \"In Kpop choreography, dancers move in various orbits within the performance space to create visually engaging patterns and formations. Different movements and positions are orchestrated to influence the flow and dynamics of the choreography, similar to how orbital mechanics influence the positions and interactions of asteroids in the solar system.\"\\n  }\\n],[\\n  {\\n    \"metaphor\": \"Both Comets in the solar system and Choreography aspects in Kpop have Orbital Mechanics in common.\",\\n    \"comets\": \"Comets utilize gravitational forces to determine their movement and path in space, following elliptical trajectories around the sun.\",\\n    \"choreography_aspects\": \"Similarly, Choreography aspects in Kpop utilize forces of movement and direction to create visually appealing dance routines that flow seamlessly in a performance.\"\\n  },\\n  {\\n    \"metaphor\": \"Both Comets in the solar system and Choreography aspects in Kpop have Material Science in common.\",\\n    \"comets\": \"Scientists study and manipulate icy materials and dust particles found in comets to understand their composition and behavior in different environments.\",\\n    \"choreography_aspects\": \"Likewise, Choreographers in Kpop analyze and utilize various materials such as props, costumes, and lighting effects to enhance the visual appeal and storytelling in their dance routines.\"\\n  }\\n],[\\n  {\\n    \"metaphor\": \"both Dwarf Planets in the solar system and Choreography in Kpop have characteristics of Gravitational Stabilization\",\\n    \"dwarf_planets\": {\\n      \"purpose\": \"Utilizing objects with sufficient mass and gravitational pull to stabilize orbital pathways of other objects\",\\n      \"mechanism\": \"Preventing chaotic movements and collisions\"\\n    },\\n    \"choreography\": {\\n      \"purpose\": \"Utilizing dancers with specific movements and timing to stabilize the overall performance\",\\n      \"mechanism\": \"Preventing chaotic choreography and ensuring synchronized movements\"\\n    }\\n  },\\n  {\\n    \"metaphor\": \"both Dwarf Planets in the solar system and Choreography in Kpop have characteristics of Geometric Structuring\",\\n    \"dwarf_planets\": {\\n      \"purpose\": \"Designing objects with specific spatial locations and geometric structures to maintain celestial balance and stability\",\\n      \"mechanism\": \"Preventing orbital disturbances and ensuring gravitational harmony\"\\n    },\\n    \"choreography\": {\\n      \"purpose\": \"Designing dance formations with specific spatial arrangements and geometric patterns to enhance the visual appeal\",\\n      \"mechanism\": \"Creating a visually pleasing performance and maintaining group coordination\"\\n    }\\n  }\\n]  "
      ]
     },
     "execution_count": 8,
     "metadata": {},
     "output_type": "execute_result"
    }
   ],
   "source": [
    "df_slice.head(1)"
   ]
  },
  {
   "cell_type": "markdown",
   "metadata": {},
   "source": [
    "## Save Locations"
   ]
  },
  {
   "cell_type": "code",
   "execution_count": 9,
   "metadata": {},
   "outputs": [],
   "source": [
    "# Save every call\n",
    "prompt_use_relationships_output_save_to_prefix = pathlib.Path(\"../generations/script_run_GPT35Turbo/prompt_use_relationships_output\")\n",
    "prompt_cover_subtensors_output_save_to_prefix = pathlib.Path(\"../generations/script_run_GPT35Turbo/prompt_cover_subtensors_output\")\n",
    "\n",
    "# Consolidated to csv\n",
    "prompt_use_relationships_extended_metaphors_output_save_to = pathlib.Path(\"../generations/script_run_GPT35Turbo/prompt_use_relationships_extended_metaphors_output.csv\")\n",
    "prompt_cover_subtensors_extended_metaphors_output_save_to = pathlib.Path(\"../generations/script_run_GPT35Turbo/prompt_cover_subtensors_extended_metaphors_output.csv\")"
   ]
  },
  {
   "cell_type": "markdown",
   "metadata": {},
   "source": [
    "## Prepare Prompts"
   ]
  },
  {
   "cell_type": "code",
   "execution_count": 10,
   "metadata": {},
   "outputs": [],
   "source": [
    "prompt_use_relationships_style_template = get_plaintext_file_contents(pathlib.Path(\"../prompt_template/prompt_use_relationships_write_extended_metaphor.txt\"))\n",
    "prompt_cover_subtensors_style_template = get_plaintext_file_contents(pathlib.Path(\"../prompt_template/prompt_cover_subtensors_write_extended_metaphor.txt\"))"
   ]
  },
  {
   "cell_type": "code",
   "execution_count": 11,
   "metadata": {},
   "outputs": [
    {
     "name": "stdout",
     "output_type": "stream",
     "text": [
      "Write a concise extended metaphor comparing ${tensor_name} to ${target_domain}.\n",
      "\n",
      "Use the following relationships: ${list_of_is_like}\n",
      "\n",
      "Use the following information:\n",
      "```\n",
      "${list_of_extended_metaphor}\n",
      "```\n"
     ]
    }
   ],
   "source": [
    "print(prompt_use_relationships_style_template)"
   ]
  },
  {
   "cell_type": "code",
   "execution_count": 12,
   "metadata": {},
   "outputs": [],
   "source": [
    "def run_prompt_use_relationships_extended_metaphors(filled_strings):\n",
    "    pre_df = {\n",
    "        \"level_of_difficulty\": [],\n",
    "        \"tensor_name\": [],\n",
    "        \"source_domain\": [],\n",
    "        \"target_domain\": [],\n",
    "        \"list_of_is_like\": [],\n",
    "        \"list_of_subtensors\": [], \n",
    "        \"list_of_subvehicles\": [],\n",
    "        \"list_of_extended_metaphor\": [],\n",
    "        \"use_relationships_extended_metaphor\": [],\n",
    "    }\n",
    "\n",
    "    # for idx in range(len(filled_strings)):\n",
    "    idx = 0\n",
    "    save_path = pathlib.Path(f\"{prompt_use_relationships_output_save_to_prefix}_idx_{idx}.txt\")\n",
    "\n",
    "    level_of_difficulty = filled_strings[idx].values[\"level_of_difficulty\"]\n",
    "    tensor_name = filled_strings[idx].values[\"tensor_name\"]\n",
    "    source_domain = filled_strings[idx].values[\"source_domain\"]\n",
    "    target_domain = filled_strings[idx].values[\"target_domain\"]\n",
    "    list_of_is_like = filled_strings[idx].values[\"list_of_is_like\"]\n",
    "    list_of_subtensors = filled_strings[idx].values[\"list_of_subtensors\"]\n",
    "    list_of_subvehicles = filled_strings[idx].values[\"list_of_subvehicles\"]\n",
    "    list_of_extended_metaphor = filled_strings[idx].values[\"list_of_extended_metaphor\"]\n",
    "\n",
    "    pre_df[\"level_of_difficulty\"].append(level_of_difficulty)\n",
    "    pre_df[\"tensor_name\"].append(tensor_name)\n",
    "    pre_df[\"source_domain\"].append(source_domain)\n",
    "    pre_df[\"target_domain\"].append(target_domain)\n",
    "    pre_df[\"list_of_is_like\"].append(list_of_is_like)\n",
    "    pre_df[\"list_of_subtensors\"].append(list_of_subtensors)\n",
    "    pre_df[\"list_of_subvehicles\"].append(list_of_subvehicles)\n",
    "    pre_df[\"list_of_extended_metaphor\"].append(list_of_extended_metaphor)\n",
    "    \n",
    "    if save_path.exists():\n",
    "        print(f\"Loading from {save_path}\")\n",
    "        with open(save_path, 'r') as file:\n",
    "            out_content = file.read()\n",
    "    else:\n",
    "        # call model\n",
    "        out = Completion(filled_strings[idx].filled, is_json=False)\n",
    "        out_content = out.choices[0].message.content\n",
    "        \n",
    "        # save output\n",
    "        with open(save_path, 'w+') as file:\n",
    "            file.write(out_content)\n",
    "        print(f\"Called model and saved to {save_path}\")\n",
    "\n",
    "    pre_df[\"use_relationships_extended_metaphor\"].append(out_content)\n",
    "\n",
    "    df_out = pd.DataFrame(pre_df)\n",
    "    df_out.to_csv(prompt_use_relationships_extended_metaphors_output_save_to)\n",
    "    \n",
    "    return df_out"
   ]
  },
  {
   "cell_type": "code",
   "execution_count": 13,
   "metadata": {},
   "outputs": [
    {
     "name": "stdout",
     "output_type": "stream",
     "text": [
      "Write a concise extended metaphor comparing ${tensor_name} to ${target_domain}.\n",
      "\n",
      "Cover the following aspects: ${list_of_subtensors}\n"
     ]
    }
   ],
   "source": [
    "print(prompt_cover_subtensors_style_template)"
   ]
  },
  {
   "cell_type": "code",
   "execution_count": 14,
   "metadata": {},
   "outputs": [],
   "source": [
    "def run_prompt_cover_subtensors_extended_metaphors(filled_strings):\n",
    "    pre_df = {\n",
    "        \"level_of_difficulty\": [],\n",
    "        \"tensor_name\": [],\n",
    "        \"source_domain\": [],\n",
    "        \"target_domain\": [],\n",
    "        \"list_of_is_like\": [],\n",
    "        \"list_of_subtensors\": [], \n",
    "        \"list_of_subvehicles\": [],\n",
    "        \"list_of_extended_metaphor\": [],\n",
    "        \"cover_subtensors_extended_metaphor\": [],\n",
    "    }\n",
    "\n",
    "    # for idx in range(len(filled_strings)):\n",
    "    idx = 0\n",
    "    save_path = pathlib.Path(f\"{prompt_cover_subtensors_output_save_to_prefix}_idx_{idx}.txt\")\n",
    "\n",
    "    level_of_difficulty = filled_strings[idx].values[\"level_of_difficulty\"]\n",
    "    tensor_name = filled_strings[idx].values[\"tensor_name\"]\n",
    "    source_domain = filled_strings[idx].values[\"source_domain\"]\n",
    "    target_domain = filled_strings[idx].values[\"target_domain\"]\n",
    "    list_of_is_like = filled_strings[idx].values[\"list_of_is_like\"]\n",
    "    list_of_subtensors = filled_strings[idx].values[\"list_of_subtensors\"]\n",
    "    list_of_subvehicles = filled_strings[idx].values[\"list_of_subvehicles\"]\n",
    "    list_of_extended_metaphor = filled_strings[idx].values[\"list_of_extended_metaphor\"]\n",
    "\n",
    "    pre_df[\"level_of_difficulty\"].append(level_of_difficulty)\n",
    "    pre_df[\"tensor_name\"].append(tensor_name)\n",
    "    pre_df[\"source_domain\"].append(source_domain)\n",
    "    pre_df[\"target_domain\"].append(target_domain)\n",
    "    pre_df[\"list_of_is_like\"].append(list_of_is_like)\n",
    "    pre_df[\"list_of_subtensors\"].append(list_of_subtensors)\n",
    "    pre_df[\"list_of_subvehicles\"].append(list_of_subvehicles)\n",
    "    pre_df[\"list_of_extended_metaphor\"].append(list_of_extended_metaphor)\n",
    "    \n",
    "    if save_path.exists():\n",
    "        print(f\"Loading from {save_path}\")\n",
    "        with open(save_path, 'r') as file:\n",
    "            out_content = file.read()\n",
    "    else:\n",
    "        # call model\n",
    "        out = Completion(filled_strings[idx].filled, is_json=False)\n",
    "        out_content = out.choices[0].message.content\n",
    "        \n",
    "        # save output\n",
    "        with open(save_path, 'w+') as file:\n",
    "            file.write(out_content)\n",
    "        print(f\"Called model and saved to {save_path}\")\n",
    "\n",
    "    pre_df[\"cover_subtensors_extended_metaphor\"].append(out_content)\n",
    "\n",
    "    df_out = pd.DataFrame(pre_df)\n",
    "    df_out.to_csv(prompt_cover_subtensors_extended_metaphors_output_save_to)\n",
    "    \n",
    "    return df_out"
   ]
  },
  {
   "cell_type": "markdown",
   "metadata": {},
   "source": [
    "## Run - Use Relationships"
   ]
  },
  {
   "cell_type": "code",
   "execution_count": 15,
   "metadata": {},
   "outputs": [
    {
     "name": "stdout",
     "output_type": "stream",
     "text": [
      "Write a concise extended metaphor comparing solar system to Kpop.\n",
      "\n",
      "Use the following relationships: Planets are like Choreography. Moons are like Concept of fan interactions within the Kpop industry. Asteroids are like Choreography. Comets are like Choreography aspects. Dwarf Planets are like Choreography.\n",
      "\n",
      "Use the following information:\n",
      "```\n",
      "[\n",
      "  {\n",
      "    \"metaphor\": \"both Planets in the solar system and Choreography in Kpop have Gravitational Equilibrium\",\n",
      "    \"planets\": \"Gravitational Equilibrium in the solar system contributes to overall stability by maintaining precise geometric positions and movements of celestial bodies.\",\n",
      "    \"choreography\": \"Similarly, Choreography in Kpop maintains equilibrium by ensuring precise movements and positions of dancers on stage, contributing to the overall stability and aesthetics of the performance.\"\n",
      "  },\n",
      "  {\n",
      "    \"metaphor\": \"both Planets in the solar system and Choreography in Kpop have Elliptical Paths\",\n",
      "    \"planets\": \"Elliptical Paths dictate the movement of planetary bodies along specific paths around a central body, enabling the prediction of their motion.\",\n",
      "    \"choreography\": \"Likewise, Choreography in Kpop dictates the specific paths and movements of dancers on stage, guiding their motions and creating a visually cohesive performance for the audience.\"\n",
      "  },\n",
      "  {\n",
      "    \"metaphor\": \"both Planets in the solar system and Choreography in Kpop have Mathematical Principles (e.g., Kepler's laws of planetary motion and Newton's law of universal gravitation)\",\n",
      "    \"planets\": \"Mathematical laws such as Kepler's laws and Newton's law are used to determine and predict planetary motion and gravitational interactions in the solar system.\",\n",
      "    \"choreography\": \"Similarly, Choreography in Kpop relies on mathematical principles and choreographic techniques to plan and execute dance sequences, ensuring a harmonious and visually appealing performance for the audience.\"\n",
      "  },\n",
      "  {\n",
      "    \"metaphor\": \"both Planets in the solar system and Choreography in Kpop have Orbital Configurations\",\n",
      "    \"planets\": \"Orbital configurations in the solar system result in stable interactions between celestial bodies, maintaining the gravitational equilibrium and stability of the system.\",\n",
      "    \"choreography\": \"In Choreography in Kpop, stable configurations of dancers on stage enhance the visual impact and dynamic flow of the performance, contributing to the overall aesthetic appeal and balance of the choreographed piece.\"\n",
      "  }\n",
      "],[\n",
      "  {\n",
      "    \"metaphor\": \"both Moons in the solar system and the Concept of fan interactions within the Kpop industry in Kpop provide stabilization\",\n",
      "    \"moons\": \"Moons stabilize the planets they orbit by providing gravitational balance, ensuring that the planetary system remains in harmony.\",\n",
      "    \"concept_of_fan_interactions_within_the_kpop_industry\": \"Similarly, the concept of fan interactions in Kpop provides stability to the industry by creating a supportive and engaged fan base that helps keep the industry dynamic and thriving.\"\n",
      "  },\n",
      "  {\n",
      "    \"metaphor\": \"both Moons in the solar system and the Concept of fan interactions within the Kpop industry in Kpop exhibit orbital mechanics\",\n",
      "    \"moons\": \"Moons continuously revolve around their host planet in specific orbits, following a pattern that is essential for the planetary system's functionality and balance.\",\n",
      "    \"concept_of_fan_interactions_within_the_kpop_industry\": \"Likewise, fan interactions in Kpop continuously revolve around the artists and groups they support, forming a dedicated and active community that contributes to the continuous evolution and success of the industry.\"\n",
      "  },\n",
      "  {\n",
      "    \"metaphor\": \"both Moons in the solar system and the Concept of fan interactions within the Kpop industry in Kpop maintain equilibrium\",\n",
      "    \"moons\": \"Moons maintain equilibrium through gravitational forces, interacting with the planets and other celestial bodies in a system of interlocking cycles akin to gears in machinery.\",\n",
      "    \"concept_of_fan_interactions_within_the_kpop_industry\": \"In a similar vein, fan interactions within the Kpop industry help maintain equilibrium by fostering connections between fans, artists, and the industry itself, creating a balanced and sustainable ecosystem.\"\n",
      "  }\n",
      "],[\n",
      "  {\n",
      "    \"metaphor\": \"both Asteroids in solar system and Choreography in Kpop have Gravitational Forces\",\n",
      "    \"asteroids\": \"In the solar system, gravitational forces are essential for maintaining the balance of planetary systems. Asteroids interact with these forces to either maintain their orbits or get pulled into the gravitational pull of larger celestial bodies.\",\n",
      "    \"choreography\": \"Similarly, in Kpop choreography, dancers utilize the force of movement and coordination to create a harmonious and visually appealing performance. Choreographers ensure stability and balance by strategically positioning dancers and movements, just like how gravitational forces interact with celestial bodies to ensure stability.\"\n",
      "  },\n",
      "  {\n",
      "    \"metaphor\": \"both Asteroids in solar system and Choreography in Kpop have Orbital Mechanics\",\n",
      "    \"asteroids\": \"Orbital mechanics play a crucial role in organizing the positions and movements of asteroids in the solar system. Different orbits are utilized to influence the trajectories and interactions of these celestial bodies.\",\n",
      "    \"choreography\": \"In Kpop choreography, dancers move in various orbits within the performance space to create visually engaging patterns and formations. Different movements and positions are orchestrated to influence the flow and dynamics of the choreography, similar to how orbital mechanics influence the positions and interactions of asteroids in the solar system.\"\n",
      "  }\n",
      "],[\n",
      "  {\n",
      "    \"metaphor\": \"Both Comets in the solar system and Choreography aspects in Kpop have Orbital Mechanics in common.\",\n",
      "    \"comets\": \"Comets utilize gravitational forces to determine their movement and path in space, following elliptical trajectories around the sun.\",\n",
      "    \"choreography_aspects\": \"Similarly, Choreography aspects in Kpop utilize forces of movement and direction to create visually appealing dance routines that flow seamlessly in a performance.\"\n",
      "  },\n",
      "  {\n",
      "    \"metaphor\": \"Both Comets in the solar system and Choreography aspects in Kpop have Material Science in common.\",\n",
      "    \"comets\": \"Scientists study and manipulate icy materials and dust particles found in comets to understand their composition and behavior in different environments.\",\n",
      "    \"choreography_aspects\": \"Likewise, Choreographers in Kpop analyze and utilize various materials such as props, costumes, and lighting effects to enhance the visual appeal and storytelling in their dance routines.\"\n",
      "  }\n",
      "],[\n",
      "  {\n",
      "    \"metaphor\": \"both Dwarf Planets in the solar system and Choreography in Kpop have characteristics of Gravitational Stabilization\",\n",
      "    \"dwarf_planets\": {\n",
      "      \"purpose\": \"Utilizing objects with sufficient mass and gravitational pull to stabilize orbital pathways of other objects\",\n",
      "      \"mechanism\": \"Preventing chaotic movements and collisions\"\n",
      "    },\n",
      "    \"choreography\": {\n",
      "      \"purpose\": \"Utilizing dancers with specific movements and timing to stabilize the overall performance\",\n",
      "      \"mechanism\": \"Preventing chaotic choreography and ensuring synchronized movements\"\n",
      "    }\n",
      "  },\n",
      "  {\n",
      "    \"metaphor\": \"both Dwarf Planets in the solar system and Choreography in Kpop have characteristics of Geometric Structuring\",\n",
      "    \"dwarf_planets\": {\n",
      "      \"purpose\": \"Designing objects with specific spatial locations and geometric structures to maintain celestial balance and stability\",\n",
      "      \"mechanism\": \"Preventing orbital disturbances and ensuring gravitational harmony\"\n",
      "    },\n",
      "    \"choreography\": {\n",
      "      \"purpose\": \"Designing dance formations with specific spatial arrangements and geometric patterns to enhance the visual appeal\",\n",
      "      \"mechanism\": \"Creating a visually pleasing performance and maintaining group coordination\"\n",
      "    }\n",
      "  }\n",
      "]\n",
      "```\n"
     ]
    }
   ],
   "source": [
    "filled_strings = get_filled_strings_from_dataframe(prompt_use_relationships_style_template, df_slice)\n",
    "print(filled_strings[0].filled)"
   ]
  },
  {
   "cell_type": "code",
   "execution_count": 16,
   "metadata": {},
   "outputs": [
    {
     "name": "stdout",
     "output_type": "stream",
     "text": [
      "Called model and saved to ../generations/script_run_GPT35Turbo/prompt_use_relationships_output_idx_0.txt\n"
     ]
    }
   ],
   "source": [
    "df_use_relationships = run_prompt_use_relationships_extended_metaphors(filled_strings)"
   ]
  },
  {
   "cell_type": "code",
   "execution_count": 23,
   "metadata": {},
   "outputs": [
    {
     "name": "stdout",
     "output_type": "stream",
     "text": [
      "The solar system can be likened to the world of Kpop, where each element plays a vital role in creating a harmonious and visually appealing experience for fans. Just as planets in the solar system rely on choreography for Gravitational Equilibrium, ensuring precise movements and positions of dancers on stage, Kpop choreography establishes equilibrium by maintaining stability and aesthetics in performances. Moons, like the Concept of fan interactions within the Kpop industry, provide stabilization and maintain equilibrium, forming a supportive community that keeps the industry thriving. Asteroids, similar to Choreography in Kpop, utilize Gravitational Forces and Orbital Mechanics to create balance and visually appealing performances through strategic positioning and movements. Comets and Choreography aspects share Orbital Mechanics, using movement forces and Material Science to craft visually appealing routines that seamlessly flow in performances. Lastly, Dwarf Planets, akin to Choreography in Kpop, exhibit characteristics of Gravitational Stabilization and Geometric Structuring, utilizing specific movements and formations to stabilize performances and ensure synchronized movements, much like stabilizing orbital pathways and maintaining celestial balance in the solar system. Just as the solar system functions in perfect harmony, Kpop choreography orchestrates a captivating spectacle for fans worldwide.\n"
     ]
    }
   ],
   "source": [
    "print(df_use_relationships[[\"use_relationships_extended_metaphor\"]].iloc[0, 0])"
   ]
  },
  {
   "cell_type": "markdown",
   "metadata": {},
   "source": [
    "## Run - Cover Subtensors"
   ]
  },
  {
   "cell_type": "code",
   "execution_count": 18,
   "metadata": {},
   "outputs": [
    {
     "name": "stdout",
     "output_type": "stream",
     "text": [
      "Write a concise extended metaphor comparing solar system to Kpop.\n",
      "\n",
      "Cover the following aspects: Planets, Moons, Asteroids, Comets, Dwarf Planets\n"
     ]
    }
   ],
   "source": [
    "filled_strings = get_filled_strings_from_dataframe(prompt_cover_subtensors_style_template, df_slice)\n",
    "print(filled_strings[0].filled)"
   ]
  },
  {
   "cell_type": "code",
   "execution_count": 19,
   "metadata": {},
   "outputs": [
    {
     "name": "stdout",
     "output_type": "stream",
     "text": [
      "Called model and saved to ../generations/script_run_GPT35Turbo/prompt_cover_subtensors_output_idx_0.txt\n"
     ]
    }
   ],
   "source": [
    "df_cover_subtensors = run_prompt_cover_subtensors_extended_metaphors(filled_strings)"
   ]
  },
  {
   "cell_type": "code",
   "execution_count": 24,
   "metadata": {},
   "outputs": [
    {
     "name": "stdout",
     "output_type": "stream",
     "text": [
      "In the vast galaxy of entertainment, Kpop can be likened to a solar system, with various components that make it a unique and vibrant entity.\n",
      "\n",
      "The planets represent the biggest Kpop acts, shining brightly and drawing in fans from all across the world. These planets, like BTS and BLACKPINK, are at the center of attention, with their music and performances captivating audiences everywhere.\n",
      "\n",
      "The moons orbiting these planets are the loyal fans, dedicated and supportive of their favorite artists. Just as moons reflect the light of the sun, these fans reflect the talent and passion of the Kpop idols they admire.\n",
      "\n",
      "Asteroids in the Kpop solar system are the rising stars, emerging with potential and talent that could one day shine just as bright as the planets. Groups like TXT and Aespa are on the cusp of greatness, poised to make a big impact in the industry.\n",
      "\n",
      "Comets are the unexpected surprises in Kpop, artists or groups that burst onto the scene with a unique sound or concept. They may not always stick around for long, but their presence leaves a lasting impression on fans and the industry as a whole.\n",
      "\n",
      "Finally, dwarf planets like LOONA and Dreamcatcher may not always get the same spotlight as the bigger acts, but their contributions are still valuable and important to the overall landscape of Kpop.\n",
      "\n",
      "Just like the solar system, Kpop is a dynamic and ever-changing entity, with its own set of planets, moons, asteroids, comets, and dwarf planets that all play a crucial role in its continued evolution and success.\n"
     ]
    }
   ],
   "source": [
    "print(df_cover_subtensors[[\"cover_subtensors_extended_metaphor\"]].iloc[0, 0])"
   ]
  }
 ],
 "metadata": {
  "kernelspec": {
   "display_name": "Python [conda env:metaphor_generation_with_LLMs]",
   "language": "python",
   "name": "conda-env-metaphor_generation_with_LLMs-py"
  },
  "language_info": {
   "codemirror_mode": {
    "name": "ipython",
    "version": 3
   },
   "file_extension": ".py",
   "mimetype": "text/x-python",
   "name": "python",
   "nbconvert_exporter": "python",
   "pygments_lexer": "ipython3",
   "version": "3.12.3"
  }
 },
 "nbformat": 4,
 "nbformat_minor": 4
}
