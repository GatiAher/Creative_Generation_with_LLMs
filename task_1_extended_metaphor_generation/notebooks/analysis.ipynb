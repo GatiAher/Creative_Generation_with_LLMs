{
 "cells": [
  {
   "cell_type": "code",
   "execution_count": 1,
   "metadata": {},
   "outputs": [],
   "source": [
    "%load_ext autoreload\n",
    "%autoreload 2"
   ]
  },
  {
   "cell_type": "markdown",
   "metadata": {},
   "source": [
    "# Analysis"
   ]
  },
  {
   "cell_type": "code",
   "execution_count": 2,
   "metadata": {},
   "outputs": [],
   "source": [
    "import pathlib\n",
    "import pandas as pd"
   ]
  },
  {
   "cell_type": "markdown",
   "metadata": {},
   "source": [
    "## Import Results"
   ]
  },
  {
   "cell_type": "markdown",
   "metadata": {},
   "source": [
    "### Metaphorian"
   ]
  },
  {
   "cell_type": "markdown",
   "metadata": {},
   "source": [
    "The [Metaphorian paper](https://dl.acm.org/doi/10.1145/3563657.3595996) says that \"Metaphorian was designed and implemented based on the GPT-3 model improved with 10-shot learning and prompt, which showed the strongest performance\", according to human expert ratings. Lets compare our two styles of prompt with Metaphorian's 'gpt-3-10-augmented'"
   ]
  },
  {
   "cell_type": "code",
   "execution_count": 3,
   "metadata": {},
   "outputs": [
    {
     "data": {
      "text/html": [
       "<div>\n",
       "<style scoped>\n",
       "    .dataframe tbody tr th:only-of-type {\n",
       "        vertical-align: middle;\n",
       "    }\n",
       "\n",
       "    .dataframe tbody tr th {\n",
       "        vertical-align: top;\n",
       "    }\n",
       "\n",
       "    .dataframe thead th {\n",
       "        text-align: right;\n",
       "    }\n",
       "</style>\n",
       "<table border=\"1\" class=\"dataframe\">\n",
       "  <thead>\n",
       "    <tr style=\"text-align: right;\">\n",
       "      <th></th>\n",
       "      <th>Level of Difficulty</th>\n",
       "      <th>Model</th>\n",
       "      <th>tensor_name</th>\n",
       "      <th>Metaphor</th>\n",
       "      <th>metaphor_index</th>\n",
       "    </tr>\n",
       "  </thead>\n",
       "  <tbody>\n",
       "    <tr>\n",
       "      <th>308</th>\n",
       "      <td>Intermediate</td>\n",
       "      <td>gpt-3-10-augmented</td>\n",
       "      <td>API</td>\n",
       "      <td>API is like a map because it is a way of provi...</td>\n",
       "      <td>metaphor_0</td>\n",
       "    </tr>\n",
       "    <tr>\n",
       "      <th>309</th>\n",
       "      <td>Intermediate</td>\n",
       "      <td>gpt-3-10-augmented</td>\n",
       "      <td>API</td>\n",
       "      <td>API is like a map because it is a tool that he...</td>\n",
       "      <td>metaphor_1</td>\n",
       "    </tr>\n",
       "    <tr>\n",
       "      <th>310</th>\n",
       "      <td>Intermediate</td>\n",
       "      <td>gpt-3-10-augmented</td>\n",
       "      <td>API</td>\n",
       "      <td>API is like a set of keys because it provides ...</td>\n",
       "      <td>metaphor_2</td>\n",
       "    </tr>\n",
       "    <tr>\n",
       "      <th>311</th>\n",
       "      <td>Intermediate</td>\n",
       "      <td>gpt-3-10-augmented</td>\n",
       "      <td>API</td>\n",
       "      <td>API is like a fortress because it is a structu...</td>\n",
       "      <td>metaphor_3</td>\n",
       "    </tr>\n",
       "    <tr>\n",
       "      <th>312</th>\n",
       "      <td>Intermediate</td>\n",
       "      <td>gpt-3-10-augmented</td>\n",
       "      <td>API</td>\n",
       "      <td>API is like a map because it is a way of repre...</td>\n",
       "      <td>metaphor_4</td>\n",
       "    </tr>\n",
       "  </tbody>\n",
       "</table>\n",
       "</div>"
      ],
      "text/plain": [
       "    Level of Difficulty               Model tensor_name  \\\n",
       "308        Intermediate  gpt-3-10-augmented         API   \n",
       "309        Intermediate  gpt-3-10-augmented         API   \n",
       "310        Intermediate  gpt-3-10-augmented         API   \n",
       "311        Intermediate  gpt-3-10-augmented         API   \n",
       "312        Intermediate  gpt-3-10-augmented         API   \n",
       "\n",
       "                                              Metaphor metaphor_index  \n",
       "308  API is like a map because it is a way of provi...     metaphor_0  \n",
       "309  API is like a map because it is a tool that he...     metaphor_1  \n",
       "310  API is like a set of keys because it provides ...     metaphor_2  \n",
       "311  API is like a fortress because it is a structu...     metaphor_3  \n",
       "312  API is like a map because it is a way of repre...     metaphor_4  "
      ]
     },
     "execution_count": 3,
     "metadata": {},
     "output_type": "execute_result"
    }
   ],
   "source": [
    "df_metaphorian = pd.read_csv(pathlib.Path(\"../compare_to_external/metaphorian_metaphor_data.csv\"))\n",
    "# Clean Up metaphorian results\n",
    "# rename \"Main Tenor\" to \"tensor_name\"\n",
    "df_metaphorian = df_metaphorian.rename(columns={\"Main Tenor\": \"tensor_name\"})\n",
    "# use consistent labels as given in the concepts_per_domain.csv\n",
    "df_metaphorian.loc[ df_metaphorian[\"tensor_name\"] == \"topographic map\", \"tensor_name\"] = \"topographic maps\"\n",
    "df_metaphorian.loc[ df_metaphorian[\"tensor_name\"] == \"ecosystem\", \"tensor_name\"] = \"ecosystems\"\n",
    "\n",
    "df_metaphorian = df_metaphorian[df_metaphorian['Model'] == 'gpt-3-10-augmented']\n",
    "\n",
    "df_metaphorian = df_metaphorian.sort_values(by=['tensor_name'])\n",
    "df_metaphorian = df_metaphorian.assign(metaphor_index=[f\"metaphor_{x % 5}\" for x in range(len(df_metaphorian.index))])\n",
    "\n",
    "df_metaphorian.head()"
   ]
  },
  {
   "cell_type": "code",
   "execution_count": 4,
   "metadata": {},
   "outputs": [
    {
     "data": {
      "text/plain": [
       "105"
      ]
     },
     "execution_count": 4,
     "metadata": {},
     "output_type": "execute_result"
    }
   ],
   "source": [
    "len(df_metaphorian)"
   ]
  },
  {
   "cell_type": "code",
   "execution_count": 5,
   "metadata": {},
   "outputs": [
    {
     "data": {
      "text/plain": [
       "array(['gpt-3-10-augmented'], dtype=object)"
      ]
     },
     "execution_count": 5,
     "metadata": {},
     "output_type": "execute_result"
    }
   ],
   "source": [
    "df_metaphorian.Model.unique()"
   ]
  },
  {
   "cell_type": "code",
   "execution_count": 6,
   "metadata": {},
   "outputs": [],
   "source": [
    "df_pivoted_metaphorian = df_metaphorian.pivot(index=\"tensor_name\", columns=\"metaphor_index\", values=\"Metaphor\")"
   ]
  },
  {
   "cell_type": "markdown",
   "metadata": {},
   "source": [
    "### Cover Subtensors Prompt"
   ]
  },
  {
   "cell_type": "code",
   "execution_count": 7,
   "metadata": {},
   "outputs": [
    {
     "data": {
      "text/html": [
       "<div>\n",
       "<style scoped>\n",
       "    .dataframe tbody tr th:only-of-type {\n",
       "        vertical-align: middle;\n",
       "    }\n",
       "\n",
       "    .dataframe tbody tr th {\n",
       "        vertical-align: top;\n",
       "    }\n",
       "\n",
       "    .dataframe thead th {\n",
       "        text-align: right;\n",
       "    }\n",
       "</style>\n",
       "<table border=\"1\" class=\"dataframe\">\n",
       "  <thead>\n",
       "    <tr style=\"text-align: right;\">\n",
       "      <th></th>\n",
       "      <th>level_of_difficulty</th>\n",
       "      <th>tensor_name</th>\n",
       "      <th>source_domain</th>\n",
       "      <th>target_domain</th>\n",
       "      <th>list_of_is_like</th>\n",
       "      <th>list_of_subtensors</th>\n",
       "      <th>list_of_subvehicles</th>\n",
       "      <th>list_of_extended_metaphor</th>\n",
       "      <th>cover_subtensors_extended_metaphor</th>\n",
       "    </tr>\n",
       "  </thead>\n",
       "  <tbody>\n",
       "    <tr>\n",
       "      <th>0</th>\n",
       "      <td>Elementary</td>\n",
       "      <td>solar system</td>\n",
       "      <td>Astronomy</td>\n",
       "      <td>Kpop</td>\n",
       "      <td>Planets are like Choreography. Moons are like ...</td>\n",
       "      <td>Planets, Moons, Asteroids, Comets, Dwarf Planets</td>\n",
       "      <td>Choreography, Concept of fan interactions with...</td>\n",
       "      <td>[\\n  {\\n    \"metaphor\": \"both Planets in the s...</td>\n",
       "      <td>In the vast galaxy of entertainment, Kpop can ...</td>\n",
       "    </tr>\n",
       "    <tr>\n",
       "      <th>1</th>\n",
       "      <td>Elementary</td>\n",
       "      <td>solar system</td>\n",
       "      <td>Astronomy</td>\n",
       "      <td>baseball</td>\n",
       "      <td>Planets are like Fielding positions and coordi...</td>\n",
       "      <td>Planets, Moons, Asteroids, Comets, Dwarf Planets</td>\n",
       "      <td>Fielding positions and coordination., Pitching...</td>\n",
       "      <td>[\\n  {\\n    \"metaphor\": \"Both Planets in the s...</td>\n",
       "      <td>The solar system can be likened to a game of b...</td>\n",
       "    </tr>\n",
       "    <tr>\n",
       "      <th>2</th>\n",
       "      <td>Elementary</td>\n",
       "      <td>solar system</td>\n",
       "      <td>Astronomy</td>\n",
       "      <td>Iron Man</td>\n",
       "      <td>Planets are like Repulsor Technology. Moons ar...</td>\n",
       "      <td>Planets, Moons, Asteroids, Comets, Dwarf Planets</td>\n",
       "      <td>Repulsor Technology, Repulsor technology, Repu...</td>\n",
       "      <td>[\\n  {\\n    \"metaphor\": \"both Planets in the s...</td>\n",
       "      <td>The solar system is like Iron Man, with the su...</td>\n",
       "    </tr>\n",
       "    <tr>\n",
       "      <th>3</th>\n",
       "      <td>Elementary</td>\n",
       "      <td>solar system</td>\n",
       "      <td>Astronomy</td>\n",
       "      <td>money</td>\n",
       "      <td>Planets are like Cryptocurrency. Moons are lik...</td>\n",
       "      <td>Planets, Moons, Asteroids, Comets, Dwarf Planets</td>\n",
       "      <td>Cryptocurrency, Currency Pegging, Blockchain, ...</td>\n",
       "      <td>[\\n  {\\n    \"metaphor\": \"both Planets in solar...</td>\n",
       "      <td>In the vast expanse of the financial universe,...</td>\n",
       "    </tr>\n",
       "    <tr>\n",
       "      <th>4</th>\n",
       "      <td>Intermediate</td>\n",
       "      <td>big bang theory</td>\n",
       "      <td>Astronomy</td>\n",
       "      <td>Kpop</td>\n",
       "      <td>Cosmic Microwave Background Radiation is like ...</td>\n",
       "      <td>Cosmic Microwave Background Radiation, Inflati...</td>\n",
       "      <td>Debut showcase, Hallyu Wave expansion, Debut, ...</td>\n",
       "      <td>[\\n  {\\n    \"metaphor\": \"both Cosmic Microwave...</td>\n",
       "      <td>The world of Kpop can be likened to the Big Ba...</td>\n",
       "    </tr>\n",
       "  </tbody>\n",
       "</table>\n",
       "</div>"
      ],
      "text/plain": [
       "  level_of_difficulty      tensor_name source_domain target_domain  \\\n",
       "0          Elementary     solar system     Astronomy          Kpop   \n",
       "1          Elementary     solar system     Astronomy      baseball   \n",
       "2          Elementary     solar system     Astronomy      Iron Man   \n",
       "3          Elementary     solar system     Astronomy         money   \n",
       "4        Intermediate  big bang theory     Astronomy          Kpop   \n",
       "\n",
       "                                     list_of_is_like  \\\n",
       "0  Planets are like Choreography. Moons are like ...   \n",
       "1  Planets are like Fielding positions and coordi...   \n",
       "2  Planets are like Repulsor Technology. Moons ar...   \n",
       "3  Planets are like Cryptocurrency. Moons are lik...   \n",
       "4  Cosmic Microwave Background Radiation is like ...   \n",
       "\n",
       "                                  list_of_subtensors  \\\n",
       "0   Planets, Moons, Asteroids, Comets, Dwarf Planets   \n",
       "1   Planets, Moons, Asteroids, Comets, Dwarf Planets   \n",
       "2   Planets, Moons, Asteroids, Comets, Dwarf Planets   \n",
       "3   Planets, Moons, Asteroids, Comets, Dwarf Planets   \n",
       "4  Cosmic Microwave Background Radiation, Inflati...   \n",
       "\n",
       "                                 list_of_subvehicles  \\\n",
       "0  Choreography, Concept of fan interactions with...   \n",
       "1  Fielding positions and coordination., Pitching...   \n",
       "2  Repulsor Technology, Repulsor technology, Repu...   \n",
       "3  Cryptocurrency, Currency Pegging, Blockchain, ...   \n",
       "4  Debut showcase, Hallyu Wave expansion, Debut, ...   \n",
       "\n",
       "                           list_of_extended_metaphor  \\\n",
       "0  [\\n  {\\n    \"metaphor\": \"both Planets in the s...   \n",
       "1  [\\n  {\\n    \"metaphor\": \"Both Planets in the s...   \n",
       "2  [\\n  {\\n    \"metaphor\": \"both Planets in the s...   \n",
       "3  [\\n  {\\n    \"metaphor\": \"both Planets in solar...   \n",
       "4  [\\n  {\\n    \"metaphor\": \"both Cosmic Microwave...   \n",
       "\n",
       "                  cover_subtensors_extended_metaphor  \n",
       "0  In the vast galaxy of entertainment, Kpop can ...  \n",
       "1  The solar system can be likened to a game of b...  \n",
       "2  The solar system is like Iron Man, with the su...  \n",
       "3  In the vast expanse of the financial universe,...  \n",
       "4  The world of Kpop can be likened to the Big Ba...  "
      ]
     },
     "execution_count": 7,
     "metadata": {},
     "output_type": "execute_result"
    }
   ],
   "source": [
    "df_cover_subtensors_GPT35Turbo = pd.read_csv(pathlib.Path(\"../generations/script_run_GPT35Turbo/prompt_cover_subtensors_extended_metaphors_output.csv\"), index_col=0)\n",
    "df_cover_subtensors_GPT35Turbo.head()"
   ]
  },
  {
   "cell_type": "code",
   "execution_count": 8,
   "metadata": {},
   "outputs": [],
   "source": [
    "df_pivoted_cover_subtensors_GPT35Turbo = df_cover_subtensors_GPT35Turbo.pivot(index=\"tensor_name\", columns=\"target_domain\", values=\"cover_subtensors_extended_metaphor\")"
   ]
  },
  {
   "cell_type": "markdown",
   "metadata": {},
   "source": [
    "### Use Relationships Prompt"
   ]
  },
  {
   "cell_type": "code",
   "execution_count": 9,
   "metadata": {},
   "outputs": [
    {
     "data": {
      "text/html": [
       "<div>\n",
       "<style scoped>\n",
       "    .dataframe tbody tr th:only-of-type {\n",
       "        vertical-align: middle;\n",
       "    }\n",
       "\n",
       "    .dataframe tbody tr th {\n",
       "        vertical-align: top;\n",
       "    }\n",
       "\n",
       "    .dataframe thead th {\n",
       "        text-align: right;\n",
       "    }\n",
       "</style>\n",
       "<table border=\"1\" class=\"dataframe\">\n",
       "  <thead>\n",
       "    <tr style=\"text-align: right;\">\n",
       "      <th></th>\n",
       "      <th>level_of_difficulty</th>\n",
       "      <th>tensor_name</th>\n",
       "      <th>source_domain</th>\n",
       "      <th>target_domain</th>\n",
       "      <th>list_of_is_like</th>\n",
       "      <th>list_of_subtensors</th>\n",
       "      <th>list_of_subvehicles</th>\n",
       "      <th>list_of_extended_metaphor</th>\n",
       "      <th>use_relationships_extended_metaphor</th>\n",
       "    </tr>\n",
       "  </thead>\n",
       "  <tbody>\n",
       "    <tr>\n",
       "      <th>0</th>\n",
       "      <td>Elementary</td>\n",
       "      <td>solar system</td>\n",
       "      <td>Astronomy</td>\n",
       "      <td>Kpop</td>\n",
       "      <td>Planets are like Choreography. Moons are like ...</td>\n",
       "      <td>Planets, Moons, Asteroids, Comets, Dwarf Planets</td>\n",
       "      <td>Choreography, Concept of fan interactions with...</td>\n",
       "      <td>[\\n  {\\n    \"metaphor\": \"both Planets in the s...</td>\n",
       "      <td>The solar system can be likened to the world o...</td>\n",
       "    </tr>\n",
       "    <tr>\n",
       "      <th>1</th>\n",
       "      <td>Elementary</td>\n",
       "      <td>solar system</td>\n",
       "      <td>Astronomy</td>\n",
       "      <td>baseball</td>\n",
       "      <td>Planets are like Fielding positions and coordi...</td>\n",
       "      <td>Planets, Moons, Asteroids, Comets, Dwarf Planets</td>\n",
       "      <td>Fielding positions and coordination., Pitching...</td>\n",
       "      <td>[\\n  {\\n    \"metaphor\": \"Both Planets in the s...</td>\n",
       "      <td>Planets in the solar system and fielding posit...</td>\n",
       "    </tr>\n",
       "    <tr>\n",
       "      <th>2</th>\n",
       "      <td>Elementary</td>\n",
       "      <td>solar system</td>\n",
       "      <td>Astronomy</td>\n",
       "      <td>Iron Man</td>\n",
       "      <td>Planets are like Repulsor Technology. Moons ar...</td>\n",
       "      <td>Planets, Moons, Asteroids, Comets, Dwarf Planets</td>\n",
       "      <td>Repulsor Technology, Repulsor technology, Repu...</td>\n",
       "      <td>[\\n  {\\n    \"metaphor\": \"both Planets in the s...</td>\n",
       "      <td>The solar system can be likened to Iron Man th...</td>\n",
       "    </tr>\n",
       "    <tr>\n",
       "      <th>3</th>\n",
       "      <td>Elementary</td>\n",
       "      <td>solar system</td>\n",
       "      <td>Astronomy</td>\n",
       "      <td>money</td>\n",
       "      <td>Planets are like Cryptocurrency. Moons are lik...</td>\n",
       "      <td>Planets, Moons, Asteroids, Comets, Dwarf Planets</td>\n",
       "      <td>Cryptocurrency, Currency Pegging, Blockchain, ...</td>\n",
       "      <td>[\\n  {\\n    \"metaphor\": \"both Planets in solar...</td>\n",
       "      <td>The solar system can be likened to the monetar...</td>\n",
       "    </tr>\n",
       "    <tr>\n",
       "      <th>4</th>\n",
       "      <td>Intermediate</td>\n",
       "      <td>big bang theory</td>\n",
       "      <td>Astronomy</td>\n",
       "      <td>Kpop</td>\n",
       "      <td>Cosmic Microwave Background Radiation is like ...</td>\n",
       "      <td>Cosmic Microwave Background Radiation, Inflati...</td>\n",
       "      <td>Debut showcase, Hallyu Wave expansion, Debut, ...</td>\n",
       "      <td>[\\n  {\\n    \"metaphor\": \"both Cosmic Microwave...</td>\n",
       "      <td>The Big Bang Theory and Kpop have striking sim...</td>\n",
       "    </tr>\n",
       "  </tbody>\n",
       "</table>\n",
       "</div>"
      ],
      "text/plain": [
       "  level_of_difficulty      tensor_name source_domain target_domain  \\\n",
       "0          Elementary     solar system     Astronomy          Kpop   \n",
       "1          Elementary     solar system     Astronomy      baseball   \n",
       "2          Elementary     solar system     Astronomy      Iron Man   \n",
       "3          Elementary     solar system     Astronomy         money   \n",
       "4        Intermediate  big bang theory     Astronomy          Kpop   \n",
       "\n",
       "                                     list_of_is_like  \\\n",
       "0  Planets are like Choreography. Moons are like ...   \n",
       "1  Planets are like Fielding positions and coordi...   \n",
       "2  Planets are like Repulsor Technology. Moons ar...   \n",
       "3  Planets are like Cryptocurrency. Moons are lik...   \n",
       "4  Cosmic Microwave Background Radiation is like ...   \n",
       "\n",
       "                                  list_of_subtensors  \\\n",
       "0   Planets, Moons, Asteroids, Comets, Dwarf Planets   \n",
       "1   Planets, Moons, Asteroids, Comets, Dwarf Planets   \n",
       "2   Planets, Moons, Asteroids, Comets, Dwarf Planets   \n",
       "3   Planets, Moons, Asteroids, Comets, Dwarf Planets   \n",
       "4  Cosmic Microwave Background Radiation, Inflati...   \n",
       "\n",
       "                                 list_of_subvehicles  \\\n",
       "0  Choreography, Concept of fan interactions with...   \n",
       "1  Fielding positions and coordination., Pitching...   \n",
       "2  Repulsor Technology, Repulsor technology, Repu...   \n",
       "3  Cryptocurrency, Currency Pegging, Blockchain, ...   \n",
       "4  Debut showcase, Hallyu Wave expansion, Debut, ...   \n",
       "\n",
       "                           list_of_extended_metaphor  \\\n",
       "0  [\\n  {\\n    \"metaphor\": \"both Planets in the s...   \n",
       "1  [\\n  {\\n    \"metaphor\": \"Both Planets in the s...   \n",
       "2  [\\n  {\\n    \"metaphor\": \"both Planets in the s...   \n",
       "3  [\\n  {\\n    \"metaphor\": \"both Planets in solar...   \n",
       "4  [\\n  {\\n    \"metaphor\": \"both Cosmic Microwave...   \n",
       "\n",
       "                 use_relationships_extended_metaphor  \n",
       "0  The solar system can be likened to the world o...  \n",
       "1  Planets in the solar system and fielding posit...  \n",
       "2  The solar system can be likened to Iron Man th...  \n",
       "3  The solar system can be likened to the monetar...  \n",
       "4  The Big Bang Theory and Kpop have striking sim...  "
      ]
     },
     "execution_count": 9,
     "metadata": {},
     "output_type": "execute_result"
    }
   ],
   "source": [
    "df_use_relationships_GPT35Turbo = pd.read_csv(pathlib.Path(\"../generations/script_run_GPT35Turbo/prompt_use_relationships_extended_metaphors_output.csv\"), index_col=0)\n",
    "df_use_relationships_GPT35Turbo.head()"
   ]
  },
  {
   "cell_type": "code",
   "execution_count": 10,
   "metadata": {},
   "outputs": [],
   "source": [
    "df_pivoted_use_relationships_GPT35Turbo = df_use_relationships_GPT35Turbo.pivot(index=\"tensor_name\", columns=\"target_domain\", values=\"use_relationships_extended_metaphor\")"
   ]
  },
  {
   "cell_type": "code",
   "execution_count": 11,
   "metadata": {},
   "outputs": [],
   "source": [
    "# Sanity Check\n",
    "main_tensor_metaphorian = list(df_metaphorian[\"tensor_name\"].unique())\n",
    "main_tensor_metaphorian.sort()\n",
    "\n",
    "main_tensor_ours = list(df_use_relationships_GPT35Turbo[\"tensor_name\"].unique())\n",
    "main_tensor_ours.sort()\n",
    "\n",
    "assert main_tensor_metaphorian == main_tensor_ours, \"Error these are different!\""
   ]
  },
  {
   "cell_type": "markdown",
   "metadata": {},
   "source": [
    "## Merge"
   ]
  },
  {
   "cell_type": "code",
   "execution_count": 12,
   "metadata": {},
   "outputs": [],
   "source": [
    "df_pivoted = df_pivoted_use_relationships_GPT35Turbo.merge(\n",
    "    df_pivoted_cover_subtensors_GPT35Turbo, right_index=True, left_index=True, suffixes=[\"_cover_GPT35Turbo\", \"_relationships_GPT35Turbo\"]\n",
    ").merge(\n",
    "    df_pivoted_metaphorian, right_index=True, left_index=True, suffixes=[None, \"_metaphorian\"]\n",
    ").merge(\n",
    "    df_cover_subtensors_GPT35Turbo[[\"tensor_name\", \"level_of_difficulty\"]].drop_duplicates(), left_index=True, right_on=\"tensor_name\",\n",
    ").set_index(\"tensor_name\")"
   ]
  },
  {
   "cell_type": "code",
   "execution_count": 13,
   "metadata": {},
   "outputs": [
    {
     "data": {
      "text/plain": [
       "21"
      ]
     },
     "execution_count": 13,
     "metadata": {},
     "output_type": "execute_result"
    }
   ],
   "source": [
    "len(df_pivoted)"
   ]
  },
  {
   "cell_type": "code",
   "execution_count": 14,
   "metadata": {},
   "outputs": [],
   "source": [
    "df_pivoted.to_csv(pathlib.Path(\"../generations/final_set_of_metaphors.csv\"))"
   ]
  }
 ],
 "metadata": {
  "kernelspec": {
   "display_name": "Python [conda env:metaphor_generation_with_LLMs]",
   "language": "python",
   "name": "conda-env-metaphor_generation_with_LLMs-py"
  },
  "language_info": {
   "codemirror_mode": {
    "name": "ipython",
    "version": 3
   },
   "file_extension": ".py",
   "mimetype": "text/x-python",
   "name": "python",
   "nbconvert_exporter": "python",
   "pygments_lexer": "ipython3",
   "version": "3.12.3"
  }
 },
 "nbformat": 4,
 "nbformat_minor": 4
}
