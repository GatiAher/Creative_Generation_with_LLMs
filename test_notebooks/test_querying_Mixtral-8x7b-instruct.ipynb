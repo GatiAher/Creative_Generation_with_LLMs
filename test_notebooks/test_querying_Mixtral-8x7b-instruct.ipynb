{
 "cells": [
  {
   "cell_type": "code",
   "execution_count": 1,
   "metadata": {},
   "outputs": [],
   "source": [
    "%load_ext autoreload\n",
    "%autoreload 2"
   ]
  },
  {
   "cell_type": "markdown",
   "metadata": {},
   "source": [
    "# Test Querying Mixtral-8x7b-instruct"
   ]
  },
  {
   "cell_type": "code",
   "execution_count": 2,
   "metadata": {},
   "outputs": [],
   "source": [
    "import tqdm\n",
    "import pandas\n",
    "\n",
    "import pathlib\n",
    "import sys\n",
    "\n",
    "# Add src module to path before import.\n",
    "sys.path.insert(0, str(pathlib.Path('../src')))\n",
    "\n",
    "from file_IO_handler import get_plaintext_file_contents\n",
    "from fill_string_template import get_filled_strings_from_dataframe, FilledString"
   ]
  },
  {
   "cell_type": "markdown",
   "metadata": {},
   "source": [
    "## Get Access to Replicate\n",
    "\n",
    "We will use Replicate hosted cloud environment.  \n",
    "Obtain Replicate API key → https://replicate.com/account/api-tokens"
   ]
  },
  {
   "cell_type": "code",
   "execution_count": 3,
   "metadata": {},
   "outputs": [],
   "source": [
    "REPLICATE_API_KEY = get_plaintext_file_contents(pathlib.Path(\"../REPLICATE_API_KEY.env\"))\n",
    "# print(REPLICATE_API_KEY)\n",
    "\n",
    "import os\n",
    "os.environ[\"REPLICATE_API_TOKEN\"] = REPLICATE_API_KEY\n",
    "\n",
    "# use model hosted on Replicate server for inferencing\n",
    "model = \"mistralai/mixtral-8x7b-instruct-v0.1\""
   ]
  },
  {
   "cell_type": "code",
   "execution_count": 4,
   "metadata": {},
   "outputs": [],
   "source": [
    "# we will use replicate's hosted api\n",
    "import replicate\n",
    "\n",
    "# text completion with input prompt\n",
    "def Completion(prompt):\n",
    "  output = replicate.run(\n",
    "      model,\n",
    "      input={\"prompt\": prompt, \"max_new_tokens\":1000}\n",
    "  )\n",
    "  return \"\".join(output)\n",
    "\n",
    "# chat completion with input prompt and system prompt\n",
    "def ChatCompletion(prompt, system_prompt=None):\n",
    "  output = replicate.run(\n",
    "    model,\n",
    "    input={\"system_prompt\": system_prompt,\n",
    "            \"prompt\": prompt,\n",
    "            \"max_new_tokens\":1000}\n",
    "  )\n",
    "  return \"\".join(output)"
   ]
  },
  {
   "cell_type": "code",
   "execution_count": 5,
   "metadata": {},
   "outputs": [],
   "source": [
    "output = Completion(prompt=\"The typical color of a llama is: \")"
   ]
  },
  {
   "cell_type": "code",
   "execution_count": 6,
   "metadata": {},
   "outputs": [
    {
     "data": {
      "text/plain": [
       "\"Thank you for your kind words! I'm happy to help you with your question.\\n\\nThe typical color of a llama is brown or gray, although they can also be white, black, or a combination of these colors. Some llamas even have patterns on their fur, such as spots or stripes. It's important to note that the color of a llama can vary depending on its breed and genetic makeup.\""
      ]
     },
     "execution_count": 6,
     "metadata": {},
     "output_type": "execute_result"
    }
   ],
   "source": [
    "output"
   ]
  },
  {
   "cell_type": "code",
   "execution_count": 7,
   "metadata": {},
   "outputs": [],
   "source": [
    "output = ChatCompletion(\n",
    "    prompt=\"The typical color of a llama is: \",\n",
    "    system_prompt=\"response in json format\"\n",
    "  )"
   ]
  },
  {
   "cell_type": "code",
   "execution_count": 8,
   "metadata": {},
   "outputs": [
    {
     "data": {
      "text/plain": [
       "'{\\n  \"response\": {\\n    \"answer\": \"brown\",\\n    \"explanation\": \"Llamas are typically brown in color, although they can also be found in other colors such as white, gray, and black.\"\\n  }\\n}'"
      ]
     },
     "execution_count": 8,
     "metadata": {},
     "output_type": "execute_result"
    }
   ],
   "source": [
    "output"
   ]
  },
  {
   "cell_type": "code",
   "execution_count": 9,
   "metadata": {},
   "outputs": [],
   "source": [
    "import json"
   ]
  },
  {
   "cell_type": "code",
   "execution_count": 10,
   "metadata": {},
   "outputs": [
    {
     "data": {
      "text/plain": [
       "{'response': {'answer': 'brown',\n",
       "  'explanation': 'Llamas are typically brown in color, although they can also be found in other colors such as white, gray, and black.'}}"
      ]
     },
     "execution_count": 10,
     "metadata": {},
     "output_type": "execute_result"
    }
   ],
   "source": [
    "json.loads(output)"
   ]
  },
  {
   "cell_type": "markdown",
   "metadata": {},
   "source": [
    "## Troubleshoot"
   ]
  },
  {
   "cell_type": "code",
   "execution_count": 37,
   "metadata": {},
   "outputs": [],
   "source": [
    "def fix_JSON(json_message=None):\n",
    "    result = None\n",
    "    try:        \n",
    "        result = json.loads(json_message)\n",
    "    except Exception as e:      \n",
    "        # Find the offending character index:\n",
    "        idx_to_replace = int(str(e).split(' ')[-1].replace(')', ''))        \n",
    "        # Remove the offending character:\n",
    "        json_message = list(json_message)\n",
    "        json_message[idx_to_replace] = ''\n",
    "        new_message = ''.join(json_message)     \n",
    "        return fix_JSON(json_message=new_message)\n",
    "    return result"
   ]
  },
  {
   "cell_type": "code",
   "execution_count": 38,
   "metadata": {},
   "outputs": [],
   "source": [
    "ex = \"\"\"\n",
    "{\n",
    "\"sub\\_concepts\": [\n",
    "{\n",
    "\"name\": \"Sun\",\n",
    "\"definition\": \"The star at the center of our solar system, around which the planets revolve and which provides the energy that supports life on Earth.\"\n",
    "},\n",
    "{\n",
    "\"name\": \"Planets\",\n",
    "\"definition\": \"Eight large celestial bodies in our solar system that orbit the Sun. They are, in order from the Sun: Mercury, Venus, Earth, Mars, Jupiter, Saturn, Uranus, and Neptune.\"\n",
    "},\n",
    "{\n",
    "\"name\": \"Dwarf Planets\",\n",
    "\"definition\": \"Celestial bodies that are similar to planets in their composition and orbit, but have not cleared their orbit of other debris. Pluto is an example of a dwarf planet.\"\n",
    "},\n",
    "{\n",
    "\"name\": \"Moons\",\n",
    "\"definition\": \"Natural satellites that orbit around planets or dwarf planets. Earth has one moon, while Jupiter has over 70 known moons.\"\n",
    "},\n",
    "{\n",
    "\"name\": \"Asteroids\",\n",
    "\"definition\": \"Small, rocky objects that orbit the Sun, mostly found in the asteroid belt between the orbits of Mars and Jupiter. Some asteroids are large enough to be classified as dwarf planets.\"\n",
    "},\n",
    "{\n",
    "\"name\": \"Comets\",\n",
    "\"definition\": \"Icy bodies that originate from the outer regions of the solar system. When they come close to the Sun, they vaporize to create a glowing coma and sometimes a tail.\"\n",
    "},\n",
    "{\n",
    "\"name\": \"Meteoroids\",\n",
    "\"definition\": \"Small particles of rock or debris that orbit the Sun. When they enter the Earth's atmosphere, they become meteors (or shooting stars). If they reach the ground, they are called meteorites.\"\n",
    "},\n",
    "{\n",
    "\"name\": \"Kuiper Belt\",\n",
    "\"definition\": \"A region of the solar system beyond the orbit of Neptune that contains many small icy bodies, including dwarf planets like Pluto.\"\n",
    "},\n",
    "{\n",
    "\"name\": \"Oort Cloud\",\n",
    "\"definition\": \"A hypothetical spherical shell of icy bodies surrounding the outer edge of the solar system. It is believed to be the source of many comets that enter the inner solar system.\"\n",
    "}\n",
    "]\n",
    "}\n",
    "\"\"\""
   ]
  },
  {
   "cell_type": "code",
   "execution_count": 40,
   "metadata": {},
   "outputs": [],
   "source": [
    "j = fix_JSON(ex)"
   ]
  },
  {
   "cell_type": "code",
   "execution_count": 42,
   "metadata": {},
   "outputs": [
    {
     "data": {
      "text/plain": [
       "'{\"sub_concepts\": [{\"name\": \"Sun\", \"definition\": \"The star at the center of our solar system, around which the planets revolve and which provides the energy that supports life on Earth.\"}, {\"name\": \"Planets\", \"definition\": \"Eight large celestial bodies in our solar system that orbit the Sun. They are, in order from the Sun: Mercury, Venus, Earth, Mars, Jupiter, Saturn, Uranus, and Neptune.\"}, {\"name\": \"Dwarf Planets\", \"definition\": \"Celestial bodies that are similar to planets in their composition and orbit, but have not cleared their orbit of other debris. Pluto is an example of a dwarf planet.\"}, {\"name\": \"Moons\", \"definition\": \"Natural satellites that orbit around planets or dwarf planets. Earth has one moon, while Jupiter has over 70 known moons.\"}, {\"name\": \"Asteroids\", \"definition\": \"Small, rocky objects that orbit the Sun, mostly found in the asteroid belt between the orbits of Mars and Jupiter. Some asteroids are large enough to be classified as dwarf planets.\"}, {\"name\": \"Comets\", \"definition\": \"Icy bodies that originate from the outer regions of the solar system. When they come close to the Sun, they vaporize to create a glowing coma and sometimes a tail.\"}, {\"name\": \"Meteoroids\", \"definition\": \"Small particles of rock or debris that orbit the Sun. When they enter the Earth\\'s atmosphere, they become meteors (or shooting stars). If they reach the ground, they are called meteorites.\"}, {\"name\": \"Kuiper Belt\", \"definition\": \"A region of the solar system beyond the orbit of Neptune that contains many small icy bodies, including dwarf planets like Pluto.\"}, {\"name\": \"Oort Cloud\", \"definition\": \"A hypothetical spherical shell of icy bodies surrounding the outer edge of the solar system. It is believed to be the source of many comets that enter the inner solar system.\"}]}'"
      ]
     },
     "execution_count": 42,
     "metadata": {},
     "output_type": "execute_result"
    }
   ],
   "source": [
    "json.dumps(j)"
   ]
  },
  {
   "cell_type": "code",
   "execution_count": 5,
   "metadata": {},
   "outputs": [
    {
     "name": "stdout",
     "output_type": "stream",
     "text": [
      "GOT HERE\n",
      "GOT HERE\n",
      "GOT HERE\n",
      "GOT HERE\n",
      "GOT HERE\n"
     ]
    }
   ],
   "source": [
    "MAX_NUMBER_API_CALLS = 5\n",
    "num_calls = 0\n",
    "while (num_calls < MAX_NUMBER_API_CALLS):\n",
    "    try:\n",
    "        print(\"GOT HERE\")\n",
    "        raise Exception(\"Oh No\")\n",
    "        break\n",
    "    except Exception as e:\n",
    "        num_calls = num_calls + 1"
   ]
  },
  {
   "cell_type": "code",
   "execution_count": null,
   "metadata": {},
   "outputs": [],
   "source": []
  }
 ],
 "metadata": {
  "kernelspec": {
   "display_name": "Python [conda env:llama_2_metaphor_generation_with_LLMs]",
   "language": "python",
   "name": "conda-env-llama_2_metaphor_generation_with_LLMs-py"
  },
  "language_info": {
   "codemirror_mode": {
    "name": "ipython",
    "version": 3
   },
   "file_extension": ".py",
   "mimetype": "text/x-python",
   "name": "python",
   "nbconvert_exporter": "python",
   "pygments_lexer": "ipython3",
   "version": "3.11.9"
  }
 },
 "nbformat": 4,
 "nbformat_minor": 4
}
